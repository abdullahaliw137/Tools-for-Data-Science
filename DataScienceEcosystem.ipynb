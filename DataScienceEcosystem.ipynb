{
  "metadata": {
    "kernelspec": {
      "name": "python",
      "display_name": "Python (Pyodide)",
      "language": "python"
    },
    "language_info": {
      "codemirror_mode": {
        "name": "python",
        "version": 3
      },
      "file_extension": ".py",
      "mimetype": "text/x-python",
      "name": "python",
      "nbconvert_exporter": "python",
      "pygments_lexer": "ipython3",
      "version": "3.8"
    }
  },
  "nbformat_minor": 5,
  "nbformat": 4,
  "cells": [
    {
      "id": "0170e642-4ec6-4244-8044-57a9db850fa3",
      "cell_type": "markdown",
      "source": "# Data Science Tools and Ecosystem",
      "metadata": {}
    },
    {
      "id": "27f25598-e41e-418c-a541-2c73f21c4067",
      "cell_type": "markdown",
      "source": "### In this notebook, Data Science Tools and Ecosystem are summarized.",
      "metadata": {}
    },
    {
      "id": "1d7b67e9-b5f2-4874-9fab-09d9033cfacf",
      "cell_type": "markdown",
      "source": "##### Some of the popular languages that Data Scientists use are:",
      "metadata": {}
    },
    {
      "id": "41e17eaa-2bac-43a1-9ddc-791592684962",
      "cell_type": "markdown",
      "source": "1 Python\n\n2 R\n\n3 SQL\n\n4 Julia\n\n5 Scala",
      "metadata": {}
    },
    {
      "id": "37d98f4a-c08e-4bec-a255-87f61b7f222a",
      "cell_type": "markdown",
      "source": "###### Objectives:",
      "metadata": {}
    },
    {
      "id": "4b31f580-2f80-4551-ad26-ea3369403b9b",
      "cell_type": "markdown",
      "source": "###### List popular languages for Data Science",
      "metadata": {}
    },
    {
      "id": "36d777e2-ae2d-42f7-8789-4d6437793a37",
      "cell_type": "markdown",
      "source": "- Python\n\n- R\n\n- SQL\n\n- Julia\n\n- Scala",
      "metadata": {}
    },
    {
      "id": "df46ea9d-3abc-4d94-8866-9654d695b4d9",
      "cell_type": "markdown",
      "source": "##### Some of the commonly used libraries used by Data Scientists include:",
      "metadata": {}
    },
    {
      "id": "6f1ebb13-179f-4802-83ae-68900b910408",
      "cell_type": "markdown",
      "source": "1 pandas\n\n2 NumPy\n\n3 matplotlib\n\n4 scikit-learn\n\n5 TensorFlow",
      "metadata": {}
    },
    {
      "id": "bb27c269-e729-46e3-9956-57d7a43693fb",
      "cell_type": "markdown",
      "source": "##### Data Science tools\n",
      "metadata": {}
    },
    {
      "id": "d15854ba-6b2e-4801-a177-b23316ae3f5d",
      "cell_type": "markdown",
      "source": "Jupyter Notebook\n",
      "metadata": {}
    },
    {
      "id": "7da5805e-99b8-4157-86d4-270e1a046fd9",
      "cell_type": "markdown",
      "source": "RStudio\n",
      "metadata": {}
    },
    {
      "id": "78c27c6a-24e3-43ea-a981-bc76f9013c0d",
      "cell_type": "markdown",
      "source": "VS Code",
      "metadata": {}
    },
    {
      "id": "e732d760-65c6-41cb-95b4-981c12159bf2",
      "cell_type": "markdown",
      "source": "### Below are a few examples of evaluating arithmetic expressions in Python",
      "metadata": {}
    },
    {
      "id": "d6b896fd-9355-4be6-80f8-ecdea6526937",
      "cell_type": "markdown",
      "source": "This a simple arithmetic expression to mutiply then add integers",
      "metadata": {}
    },
    {
      "id": "f48975d7-dcf2-44e2-9402-bb8b03ea3861",
      "cell_type": "code",
      "source": "(3*4)+5",
      "metadata": {
        "trusted": true
      },
      "outputs": [
        {
          "execution_count": 2,
          "output_type": "execute_result",
          "data": {
            "text/plain": "17"
          },
          "metadata": {}
        }
      ],
      "execution_count": 2
    },
    {
      "id": "8c2875f6-01b9-4a91-8bd0-bf783e7f2ba5",
      "cell_type": "code",
      "source": "# This will convert 200 minutes to hours by dividing by 60\nhours = 200 / 60\nhours\n",
      "metadata": {
        "trusted": true
      },
      "outputs": [
        {
          "execution_count": 3,
          "output_type": "execute_result",
          "data": {
            "text/plain": "3.3333333333333335"
          },
          "metadata": {}
        }
      ],
      "execution_count": 3
    },
    {
      "id": "49267e07-1ddf-46a5-a80d-e7d8e470cbe7",
      "cell_type": "markdown",
      "source": "## Author\nMuhammad Abdullah Ali",
      "metadata": {}
    }
  ]
}